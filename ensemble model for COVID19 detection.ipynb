{
  "nbformat": 4,
  "nbformat_minor": 0,
  "metadata": {
    "colab": {
      "name": "corona mix.ipynb",
      "provenance": []
    },
    "kernelspec": {
      "name": "python3",
      "display_name": "Python 3"
    },
    "accelerator": "GPU"
  },
  "cells": [
    {
      "cell_type": "code",
      "metadata": {
        "id": "AKMrvieU568D",
        "colab_type": "code",
        "colab": {
          "base_uri": "https://localhost:8080/",
          "height": 34
        },
        "outputId": "db066026-3b96-4f02-e031-fa781a7b00aa"
      },
      "source": [
        "from google.colab import drive\n",
        "drive.mount('/content/drive')"
      ],
      "execution_count": null,
      "outputs": [
        {
          "output_type": "stream",
          "text": [
            "Drive already mounted at /content/drive; to attempt to forcibly remount, call drive.mount(\"/content/drive\", force_remount=True).\n"
          ],
          "name": "stdout"
        }
      ]
    },
    {
      "cell_type": "code",
      "metadata": {
        "id": "iU-vEztM6RMy",
        "colab_type": "code",
        "colab": {}
      },
      "source": [
        "import warnings\n",
        "warnings.filterwarnings('always')\n",
        "warnings.filterwarnings('ignore')\n",
        "import os\n",
        "import numpy as np\n",
        "np.random.seed(777)\n",
        "import math\n",
        "import keras\n",
        "import keras.backend as K\n",
        "import h5py\n",
        "from keras.preprocessing.image import ImageDataGenerator\n",
        "from keras.optimizers import Adam, SGD, RMSprop\n",
        "from keras.models import Sequential\n",
        "from keras.models import Model\n",
        "from keras.layers import Input, Activation, merge, Dense, Flatten, Dropout, concatenate\n",
        "from keras.layers.convolutional import Conv2D, MaxPooling2D\n",
        "from keras.layers import BatchNormalization, add, GlobalAveragePooling2D\n",
        "from keras.utils.np_utils import to_categorical\n",
        "from keras.optimizers import Adam\n",
        "from sklearn.metrics import accuracy_score,roc_curve, confusion_matrix, roc_auc_score, auc, f1_score\n",
        "from keras.regularizers import l2\n",
        "from keras.applications.xception import Xception, preprocess_input\n",
        "from keras.applications.mobilenet import MobileNet\n",
        "from keras.applications.vgg16 import VGG16\n",
        "from keras.applications.vgg19 import VGG19\n",
        "from keras.applications import DenseNet201\n",
        "from keras.applications import DenseNet121\n",
        "\n",
        "from keras.layers import Input, Dense, Activation, ZeroPadding2D, BatchNormalization, Flatten, Conv2D, Lambda,Concatenate\n",
        "from keras.layers import SeparableConv2D, AveragePooling2D, MaxPooling2D, Dropout, GlobalMaxPooling2D, GlobalAveragePooling2D, Add\n",
        "\n",
        "import matplotlib.pyplot as plt\n",
        "%matplotlib inline\n",
        "\n",
        "plt.rcParams[\"axes.grid\"] = False\n",
        "plt.rcParams.update({'font.size': 20})"
      ],
      "execution_count": null,
      "outputs": []
    },
    {
      "cell_type": "code",
      "metadata": {
        "id": "1WMMCuzd6ee-",
        "colab_type": "code",
        "colab": {}
      },
      "source": [
        "train_dir = '/content/drive/My Drive/data_v3/train/'\n",
        "test_dir = '/content/drive/My Drive/data_v3/test/'\n",
        "valid_dir = '/content/drive/My Drive/data_v3/test/'\n",
        "\n",
        "extracted_features_dir = '/content/drive/My Drive/data_v3/extracted_features/'\n",
        "model_name = \"corona_3path_CNN\""
      ],
      "execution_count": null,
      "outputs": []
    },
    {
      "cell_type": "code",
      "metadata": {
        "id": "1_xeR1R36heA",
        "colab_type": "code",
        "colab": {
          "base_uri": "https://localhost:8080/",
          "height": 52
        },
        "outputId": "7fd53ee6-8cf7-43a5-b59b-416260fc6fc0"
      },
      "source": [
        "import keras\n",
        "import tensorflow as tf\n",
        "import keras.backend as K\n",
        "\n",
        "print(\"Keras Version\", keras.__version__)\n",
        "print(\"tensorflow Version\", tf.__version__)\n"
      ],
      "execution_count": null,
      "outputs": [
        {
          "output_type": "stream",
          "text": [
            "Keras Version 2.4.3\n",
            "tensorflow Version 2.3.0\n"
          ],
          "name": "stdout"
        }
      ]
    },
    {
      "cell_type": "code",
      "metadata": {
        "id": "o0md5vIr6kfD",
        "colab_type": "code",
        "colab": {
          "base_uri": "https://localhost:8080/",
          "height": 265
        },
        "outputId": "583234f4-bd93-4d88-d863-b92c7b317be2"
      },
      "source": [
        "batch_size = 32\n",
        "img_height, img_width = 224, 224\n",
        "input_shape = (img_height, img_width, 3)\n",
        "epochs = 1000\n",
        "\n",
        "\n",
        "for root,dirs,files in os.walk(train_dir):\n",
        "    print (root, len(files))\n",
        "\n",
        "print(\"*\"*30)\n",
        "for root,dirs,files in os.walk(test_dir):\n",
        "    print (root, len(files))\n",
        "\n",
        "print(\"*\"*30)\n",
        "for root,dirs,files in os.walk(valid_dir):\n",
        "    print (root, len(files))"
      ],
      "execution_count": null,
      "outputs": [
        {
          "output_type": "stream",
          "text": [
            "/content/drive/My Drive/data_v3/train/ 0\n",
            "/content/drive/My Drive/data_v3/train/CAP 4836\n",
            "/content/drive/My Drive/data_v3/train/COVID-19 635\n",
            "/content/drive/My Drive/data_v3/train/normal 7082\n",
            "******************************\n",
            "/content/drive/My Drive/data_v3/test/ 0\n",
            "/content/drive/My Drive/data_v3/test/CAP 604\n",
            "/content/drive/My Drive/data_v3/test/normal 885\n",
            "/content/drive/My Drive/data_v3/test/COVID-19 136\n",
            "******************************\n",
            "/content/drive/My Drive/data_v3/test/ 0\n",
            "/content/drive/My Drive/data_v3/test/CAP 604\n",
            "/content/drive/My Drive/data_v3/test/normal 885\n",
            "/content/drive/My Drive/data_v3/test/COVID-19 136\n"
          ],
          "name": "stdout"
        }
      ]
    },
    {
      "cell_type": "code",
      "metadata": {
        "id": "2p_9wpvN6pOk",
        "colab_type": "code",
        "colab": {
          "base_uri": "https://localhost:8080/",
          "height": 70
        },
        "outputId": "fed75b20-1490-43c4-fbb0-fb6d9555cc6d"
      },
      "source": [
        "random_seed = np.random.seed(1142)\n",
        "\n",
        "train_datagen = ImageDataGenerator(\n",
        "    rescale=1. / 255,\n",
        "    featurewise_center=True,\n",
        "    featurewise_std_normalization=True,\n",
        "    validation_split= 0.25,\n",
        "    zoom_range=0.2,\n",
        "    shear_range=0.2)\n",
        "\n",
        "train_generator = train_datagen.flow_from_directory(\n",
        "    train_dir,\n",
        "    target_size=(img_height, img_width),\n",
        "    batch_size=batch_size,\n",
        "    seed = random_seed,\n",
        "    shuffle = False,\n",
        "    subset = 'training',\n",
        "    class_mode='categorical')\n",
        "\n",
        "validation_generator = train_datagen.flow_from_directory(\n",
        "    train_dir,\n",
        "    target_size=(img_height, img_width),\n",
        "    batch_size=batch_size,\n",
        "    seed = random_seed,\n",
        "    shuffle = False,\n",
        "    subset = 'validation',\n",
        "    class_mode='categorical')\n",
        "\n",
        "test_datagen = ImageDataGenerator(rescale=1. / 255)\n",
        "test_generator = test_datagen.flow_from_directory(\n",
        "    test_dir,\n",
        "    target_size=(img_height, img_width),\n",
        "    batch_size=batch_size,\n",
        "    seed = random_seed,\n",
        "    shuffle = False,\n",
        "    class_mode='categorical')"
      ],
      "execution_count": null,
      "outputs": [
        {
          "output_type": "stream",
          "text": [
            "Found 9416 images belonging to 3 classes.\n",
            "Found 3137 images belonging to 3 classes.\n",
            "Found 1625 images belonging to 3 classes.\n"
          ],
          "name": "stdout"
        }
      ]
    },
    {
      "cell_type": "code",
      "metadata": {
        "id": "6On8RNqT6vrl",
        "colab_type": "code",
        "colab": {
          "base_uri": "https://localhost:8080/",
          "height": 176
        },
        "outputId": "5a95e155-9117-4e7a-a81f-aa0b6397d0d0"
      },
      "source": [
        "nb_train_samples = len(train_generator.filenames)\n",
        "nb_validation_samples = len(validation_generator.filenames)\n",
        "predict_size_train = int(math.ceil(nb_train_samples / batch_size))\n",
        "predict_size_validation = int(math.ceil(nb_validation_samples / batch_size))\n",
        "\n",
        "nb_test_samples = len(test_generator.filenames)\n",
        "predict_size_test = int(math.ceil(nb_test_samples / batch_size))\n",
        "\n",
        "# nb_test_without_aug_samples = len(test_generator_without_aug.filenames)\n",
        "# predict_size_test_without_aug = int(math.ceil(nb_test_without_aug_samples / batch_size))\n",
        "\n",
        "num_classes = len(train_generator.class_indices)\n",
        "\n",
        "print(\"nb_train_samples:\", nb_train_samples)\n",
        "print(\"nb_validation_samples:\", nb_validation_samples)\n",
        "print(\"\\npredict_size_train:\", predict_size_train)\n",
        "print(\"predict_size_validation:\", predict_size_validation)\n",
        "# print(\"nb_test_without_aug_samples:\", nb_test_without_aug_samples)\n",
        "# print(\"predict_size_test_without_aug_samples:\", predict_size_test_without_aug)\n",
        "print(\"nb_test_samples:\", nb_test_samples)\n",
        "print(\"predict_size_test:\", predict_size_test)\n",
        "\n",
        "print(\"\\n num_classes:\", num_classes)"
      ],
      "execution_count": null,
      "outputs": [
        {
          "output_type": "stream",
          "text": [
            "nb_train_samples: 9416\n",
            "nb_validation_samples: 3137\n",
            "\n",
            "predict_size_train: 295\n",
            "predict_size_validation: 99\n",
            "nb_test_samples: 1625\n",
            "predict_size_test: 51\n",
            "\n",
            " num_classes: 3\n"
          ],
          "name": "stdout"
        }
      ]
    },
    {
      "cell_type": "code",
      "metadata": {
        "id": "MlQjfKVw64tM",
        "colab_type": "code",
        "colab": {}
      },
      "source": [
        "from keras.applications import MobileNetV2\n",
        "from keras.applications.densenet import DenseNet169\n",
        "from keras.applications.inception_v3 import InceptionV3\n",
        "from keras.applications.resnet50 import ResNet50\n",
        "from keras.applications.nasnet import NASNetMobile\n",
        "from keras.applications import VGG19\n",
        "\n",
        "input_tensor = Input(shape = input_shape)  \n",
        "\n",
        "base_model1=NASNetMobile(input_shape= input_shape,weights='imagenet', include_top=False, input_tensor=input_tensor)\n",
        "base_model2=InceptionV3(input_shape= input_shape,weights='imagenet', include_top=False, input_tensor=input_tensor)\n",
        "base_model3=DenseNet201(input_shape= input_shape,weights='imagenet', include_top=False, input_tensor=input_tensor)\n",
        "base_model4=VGG19(input_shape= input_shape,weights='imagenet', include_top=False, input_tensor=input_tensor)\n",
        "\n",
        "x1 = base_model1.output\n",
        "x1 = GlobalAveragePooling2D()(x1)\n",
        "\n",
        "x2 = base_model2.output\n",
        "x2 = GlobalAveragePooling2D()(x2)\n",
        "\n",
        "x3 = base_model3.output\n",
        "x3 = GlobalAveragePooling2D()(x3)\n",
        "\n",
        "x4 = base_model4.output\n",
        "x4 = GlobalAveragePooling2D()(x4)\n",
        "\n",
        "merge = concatenate([x1, x2, x3 , x4])\n",
        "predictions = Dense(num_classes, activation='softmax')(merge)\n",
        "\n",
        "model = Model(inputs=input_tensor,outputs=predictions)"
      ],
      "execution_count": null,
      "outputs": []
    },
    {
      "cell_type": "code",
      "metadata": {
        "id": "Ri3bohtwRu35",
        "colab_type": "code",
        "colab": {}
      },
      "source": [
        "model.summary()"
      ],
      "execution_count": null,
      "outputs": []
    },
    {
      "cell_type": "code",
      "metadata": {
        "id": "aOD7g5Tm7ATh",
        "colab_type": "code",
        "colab": {}
      },
      "source": [
        "'''\n",
        "c1 = model.layers[7].output \n",
        "c1 = GlobalAveragePooling2D()(c1)       \n",
        "\n",
        "c2 = model.layers[53].output\n",
        "c2 = GlobalAveragePooling2D()(c2)       \n",
        "\n",
        "c3 = model.layers[141].output\n",
        "c3 = GlobalAveragePooling2D()(c3)       \n",
        "\n",
        "c4 = model.layers[481].output\n",
        "c4 = GlobalAveragePooling2D()(c4) \n",
        "\n",
        "c5 = model.layers[827].output\n",
        "c5 = GlobalAveragePooling2D()(c5) \n",
        "\n",
        "c6 = model.layers[835].output\n",
        "c6 = GlobalAveragePooling2D()(c6) \n",
        "\n",
        "c7 = model.layers[851].output\n",
        "c7 = GlobalAveragePooling2D()(c7) \n",
        "\n",
        "c8 = model.layers[866].output\n",
        "c8 = GlobalAveragePooling2D()(c8) \n",
        "\n",
        "con = concatenate([c1 , c2 , c3 , c4 , c5 , c6, c7 , c8])\n",
        "'''\n",
        "bottleneck_final_model = Model(inputs=model.input, outputs=merge)"
      ],
      "execution_count": null,
      "outputs": []
    },
    {
      "cell_type": "code",
      "metadata": {
        "id": "XVu7qxnKUN0v",
        "colab_type": "code",
        "colab": {}
      },
      "source": [
        "for i, layer in enumerate(bottleneck_final_model.layers):\n",
        "    print(i, layer.name)"
      ],
      "execution_count": null,
      "outputs": []
    },
    {
      "cell_type": "code",
      "metadata": {
        "id": "JtnfhufD7C9e",
        "colab_type": "code",
        "colab": {}
      },
      "source": [
        "bottleneck_final_model.summary()"
      ],
      "execution_count": null,
      "outputs": []
    },
    {
      "cell_type": "code",
      "metadata": {
        "id": "lNGc_GXB7OSN",
        "colab_type": "code",
        "colab": {
          "base_uri": "https://localhost:8080/",
          "height": 90
        },
        "outputId": "a16f0efb-72f0-489e-b838-1e2007148e6e"
      },
      "source": [
        "bottleneck_features_train = bottleneck_final_model.predict_generator(train_generator, predict_size_train)\n",
        "np.save(extracted_features_dir+'bottleneck_features_train_'+model_name+'.npy', bottleneck_features_train)"
      ],
      "execution_count": null,
      "outputs": [
        {
          "output_type": "stream",
          "text": [
            "WARNING:tensorflow:From <ipython-input-14-8f58c074c945>:1: Model.predict_generator (from tensorflow.python.keras.engine.training) is deprecated and will be removed in a future version.\n",
            "Instructions for updating:\n",
            "Please use Model.predict, which supports generators.\n"
          ],
          "name": "stdout"
        }
      ]
    },
    {
      "cell_type": "code",
      "metadata": {
        "id": "fpxUGUyYrHL0",
        "colab_type": "code",
        "colab": {}
      },
      "source": [
        "bottleneck_features_validation = bottleneck_final_model.predict_generator(validation_generator, predict_size_validation)\n",
        "np.save(extracted_features_dir+'bottleneck_features_validation_'+model_name+'.npy', bottleneck_features_validation)"
      ],
      "execution_count": null,
      "outputs": []
    },
    {
      "cell_type": "code",
      "metadata": {
        "id": "A-7ey_CRrJ3x",
        "colab_type": "code",
        "colab": {}
      },
      "source": [
        "bottleneck_features_test = bottleneck_final_model.predict_generator(test_generator, predict_size_test)\n",
        "np.save(extracted_features_dir+'bottleneck_features_test_'+model_name+'.npy', bottleneck_features_test)"
      ],
      "execution_count": null,
      "outputs": []
    },
    {
      "cell_type": "code",
      "metadata": {
        "id": "UodpRmlwg9p7",
        "colab_type": "code",
        "colab": {
          "base_uri": "https://localhost:8080/",
          "height": 34
        },
        "outputId": "43eb6976-573a-4591-d69e-28317b8b7c3a"
      },
      "source": [
        "# training call backs \n",
        "lr_reduce = tf.keras.callbacks.ReduceLROnPlateau(monitor='val_loss', factor=0.5, epsilon=0.0001, patience=3, verbose=1)\n",
        "es_callback = tf.keras.callbacks.EarlyStopping(monitor='val_loss', patience=5, verbose=1)"
      ],
      "execution_count": null,
      "outputs": [
        {
          "output_type": "stream",
          "text": [
            "WARNING:tensorflow:`epsilon` argument is deprecated and will be removed, use `min_delta` instead.\n"
          ],
          "name": "stdout"
        }
      ]
    },
    {
      "cell_type": "code",
      "metadata": {
        "id": "72CrWuv_hxzG",
        "colab_type": "code",
        "colab": {}
      },
      "source": [
        "# label smoothing https://www.linkedin.com/pulse/label-smoothing-solving-overfitting-overconfidence-code-sobh-phd/\n",
        "def categorical_smooth_loss(y_true, y_pred, label_smoothing=0.1):\n",
        "    loss = tf.keras.losses.categorical_crossentropy(y_true, y_pred, label_smoothing=label_smoothing)\n",
        "    return loss\n"
      ],
      "execution_count": null,
      "outputs": []
    },
    {
      "cell_type": "code",
      "metadata": {
        "id": "38-2YF8r7bCc",
        "colab_type": "code",
        "colab": {
          "base_uri": "https://localhost:8080/",
          "height": 958
        },
        "outputId": "d8b1d4a4-ac6c-4d19-fe56-39035babc221"
      },
      "source": [
        "epochs = 1000\n",
        "train_data = np.load(extracted_features_dir+'bottleneck_features_train_'+model_name+'.npy')\n",
        "validation_data = np.load(extracted_features_dir+'bottleneck_features_validation_'+model_name+'.npy')\n",
        "test_data = np.load(extracted_features_dir+'bottleneck_features_test_'+model_name+'.npy')\n",
        "\n",
        "train_labels = train_generator.classes\n",
        "train_labels = to_categorical(train_labels, num_classes=num_classes)\n",
        "\n",
        "validation_labels = validation_generator.classes\n",
        "validation_labels = to_categorical(validation_labels, num_classes=num_classes)\n",
        "\n",
        "test_labels = test_generator.classes\n",
        "test_labels = to_categorical(test_labels, num_classes=num_classes)\n",
        "\n",
        "dropout_rate = 0.5\n",
        "\n",
        "model = Sequential()\n",
        "# model.add(Flatten(input_shape=train_data.shape[1:]))\n",
        "model.add(Dense(256, activation='relu'))\n",
        "model.add(Dropout(dropout_rate))\n",
        "model.add(Dense(num_classes, activation=tf.nn.softmax))\n",
        "\n",
        "adam_opt2=Adam(lr = 0.0001, beta_1=0.7, beta_2=0.995, amsgrad=True)\n",
        "\n",
        "model.compile(optimizer=tf.keras.optimizers.Adam(learning_rate=0.0001),loss=categorical_smooth_loss,metrics=['accuracy'])\n",
        "\n",
        "history = model.fit(train_data, train_labels,\n",
        "                    epochs=epochs,\n",
        "                    batch_size=batch_size,\n",
        "                    callbacks=[lr_reduce, es_callback],\n",
        "                    validation_data=(validation_data, validation_labels),\n",
        "                    verbose= 2)\n",
        "\n",
        "with open(extracted_features_dir+'history_'+model_name+'.txt','w') as f:\n",
        "    f.write(str(history.history))\n",
        "\n",
        "# model.save_weights(top_model_weights_path)\n",
        "# model.save(top_model_path)"
      ],
      "execution_count": null,
      "outputs": [
        {
          "output_type": "stream",
          "text": [
            "Epoch 1/1000\n",
            "295/295 - 2s - loss: 0.6321 - accuracy: 0.8233 - val_loss: 0.5452 - val_accuracy: 0.8664\n",
            "Epoch 2/1000\n",
            "295/295 - 1s - loss: 0.5611 - accuracy: 0.8601 - val_loss: 0.5305 - val_accuracy: 0.8792\n",
            "Epoch 3/1000\n",
            "295/295 - 1s - loss: 0.5380 - accuracy: 0.8742 - val_loss: 0.5497 - val_accuracy: 0.8604\n",
            "Epoch 4/1000\n",
            "295/295 - 1s - loss: 0.5190 - accuracy: 0.8843 - val_loss: 0.5172 - val_accuracy: 0.8836\n",
            "Epoch 5/1000\n",
            "295/295 - 1s - loss: 0.5076 - accuracy: 0.8935 - val_loss: 0.5197 - val_accuracy: 0.8849\n",
            "Epoch 6/1000\n",
            "295/295 - 1s - loss: 0.5017 - accuracy: 0.8950 - val_loss: 0.5053 - val_accuracy: 0.8884\n",
            "Epoch 7/1000\n",
            "295/295 - 2s - loss: 0.4945 - accuracy: 0.8999 - val_loss: 0.5006 - val_accuracy: 0.8916\n",
            "Epoch 8/1000\n",
            "295/295 - 1s - loss: 0.4833 - accuracy: 0.9060 - val_loss: 0.5014 - val_accuracy: 0.8935\n",
            "Epoch 9/1000\n",
            "295/295 - 1s - loss: 0.4778 - accuracy: 0.9102 - val_loss: 0.5166 - val_accuracy: 0.8868\n",
            "Epoch 10/1000\n",
            "295/295 - 1s - loss: 0.4736 - accuracy: 0.9116 - val_loss: 0.4962 - val_accuracy: 0.8977\n",
            "Epoch 11/1000\n",
            "295/295 - 1s - loss: 0.4676 - accuracy: 0.9164 - val_loss: 0.4922 - val_accuracy: 0.8999\n",
            "Epoch 12/1000\n",
            "295/295 - 1s - loss: 0.4618 - accuracy: 0.9176 - val_loss: 0.4914 - val_accuracy: 0.8967\n",
            "Epoch 13/1000\n",
            "295/295 - 2s - loss: 0.4576 - accuracy: 0.9217 - val_loss: 0.4948 - val_accuracy: 0.9005\n",
            "Epoch 14/1000\n",
            "295/295 - 1s - loss: 0.4538 - accuracy: 0.9219 - val_loss: 0.4904 - val_accuracy: 0.8986\n",
            "Epoch 15/1000\n",
            "295/295 - 1s - loss: 0.4472 - accuracy: 0.9292 - val_loss: 0.4885 - val_accuracy: 0.8999\n",
            "Epoch 16/1000\n",
            "295/295 - 1s - loss: 0.4455 - accuracy: 0.9313 - val_loss: 0.4890 - val_accuracy: 0.9005\n",
            "Epoch 17/1000\n",
            "295/295 - 1s - loss: 0.4387 - accuracy: 0.9310 - val_loss: 0.4878 - val_accuracy: 0.8999\n",
            "Epoch 18/1000\n",
            "295/295 - 1s - loss: 0.4410 - accuracy: 0.9332 - val_loss: 0.5082 - val_accuracy: 0.8932\n",
            "Epoch 19/1000\n",
            "295/295 - 1s - loss: 0.4348 - accuracy: 0.9344 - val_loss: 0.4916 - val_accuracy: 0.9009\n",
            "Epoch 20/1000\n",
            "295/295 - 1s - loss: 0.4329 - accuracy: 0.9352 - val_loss: 0.4851 - val_accuracy: 0.9031\n",
            "Epoch 21/1000\n",
            "295/295 - 1s - loss: 0.4270 - accuracy: 0.9399 - val_loss: 0.4876 - val_accuracy: 0.9012\n",
            "Epoch 22/1000\n",
            "295/295 - 1s - loss: 0.4221 - accuracy: 0.9407 - val_loss: 0.4889 - val_accuracy: 0.8999\n",
            "Epoch 23/1000\n",
            "\n",
            "Epoch 00023: ReduceLROnPlateau reducing learning rate to 4.999999873689376e-05.\n",
            "295/295 - 1s - loss: 0.4227 - accuracy: 0.9434 - val_loss: 0.4880 - val_accuracy: 0.9034\n",
            "Epoch 24/1000\n",
            "295/295 - 1s - loss: 0.4088 - accuracy: 0.9502 - val_loss: 0.4867 - val_accuracy: 0.9009\n",
            "Epoch 25/1000\n",
            "295/295 - 1s - loss: 0.4068 - accuracy: 0.9521 - val_loss: 0.4865 - val_accuracy: 0.9002\n",
            "Epoch 00025: early stopping\n"
          ],
          "name": "stdout"
        }
      ]
    },
    {
      "cell_type": "code",
      "metadata": {
        "id": "dOS1hzlJljYt",
        "colab_type": "code",
        "colab": {
          "base_uri": "https://localhost:8080/",
          "height": 265
        },
        "outputId": "a1ad87c5-f1dd-430e-958f-c07efea4f60c"
      },
      "source": [
        "model.summary()"
      ],
      "execution_count": null,
      "outputs": [
        {
          "output_type": "stream",
          "text": [
            "Model: \"sequential\"\n",
            "_________________________________________________________________\n",
            "Layer (type)                 Output Shape              Param #   \n",
            "=================================================================\n",
            "dense_1 (Dense)              (None, 256)               1417472   \n",
            "_________________________________________________________________\n",
            "dropout (Dropout)            (None, 256)               0         \n",
            "_________________________________________________________________\n",
            "dense_2 (Dense)              (None, 3)                 771       \n",
            "=================================================================\n",
            "Total params: 1,418,243\n",
            "Trainable params: 1,418,243\n",
            "Non-trainable params: 0\n",
            "_________________________________________________________________\n"
          ],
          "name": "stdout"
        }
      ]
    },
    {
      "cell_type": "code",
      "metadata": {
        "id": "75PJxZ_o7dHX",
        "colab_type": "code",
        "colab": {
          "base_uri": "https://localhost:8080/",
          "height": 34
        },
        "outputId": "6247577c-c355-406d-a552-160852c2c5ea"
      },
      "source": [
        "preds = model.predict(test_data)\n",
        "\n",
        "predictions = [i.argmax() for i in preds]\n",
        "y_true = [i.argmax() for i in test_labels]\n",
        "cm = confusion_matrix(y_pred=predictions, y_true=y_true)\n",
        "\n",
        "print('Accuracy {}'.format(accuracy_score(y_true=y_true, y_pred=predictions)))"
      ],
      "execution_count": null,
      "outputs": [
        {
          "output_type": "stream",
          "text": [
            "Accuracy 0.8892307692307693\n"
          ],
          "name": "stdout"
        }
      ]
    },
    {
      "cell_type": "code",
      "metadata": {
        "id": "yEn0ogsA7jis",
        "colab_type": "code",
        "colab": {
          "base_uri": "https://localhost:8080/",
          "height": 816
        },
        "outputId": "2452aeaa-5d21-453b-ca9f-658e9c603e42"
      },
      "source": [
        "plt.rcParams[\"axes.grid\"] = False\n",
        "plt.rcParams.update({'font.size': 20})\n",
        "\n",
        "labels = []\n",
        "\n",
        "label = test_generator.class_indices\n",
        "indexlabel = dict((value, key) for key, value in label.items())\n",
        "\n",
        "for k,v in indexlabel.items():\n",
        "    labels.append(v)\n",
        "\n",
        "from sklearn.metrics import confusion_matrix\n",
        "import itertools\n",
        "def plot_confusion_matrix(cm, classes,\n",
        "                          normalize=False,\n",
        "                          title='Confusion matrix',\n",
        "                          cmap=plt.cm.Blues):\n",
        "    accuracy = np.trace(cm) / float(np.sum(cm))\n",
        "    misclass = 1 - accuracy\n",
        "    if normalize:\n",
        "        cm = cm.astype('float') / cm.sum(axis=1)[:, np.newaxis]\n",
        "        print(\"Normalized confusion matrix\")\n",
        "    else:\n",
        "        print('Confusion Matrix')\n",
        "\n",
        "    print(cm)\n",
        "#     fig = plt.figure()\n",
        "    plt.imshow(cm, interpolation='nearest', cmap=cmap)\n",
        "#     plt.title(title)\n",
        "#     plt.colorbar()\n",
        "    tick_marks = np.arange(len(classes))\n",
        "    plt.xticks(tick_marks, classes, rotation=45)\n",
        "    plt.yticks(tick_marks, classes)\n",
        "\n",
        "    fmt = '.2f' if normalize else 'd'\n",
        "    thresh = cm.max() / 2.\n",
        "    for i, j in itertools.product(range(cm.shape[0]), range(cm.shape[1])):\n",
        "        plt.text(j, i, format(cm[i, j], fmt),\n",
        "                 horizontalalignment=\"center\",\n",
        "                 color=\"white\" if cm[i, j] > thresh else \"black\")\n",
        "\n",
        "    plt.tight_layout()\n",
        "    plt.ylabel('True label')\n",
        "    plt.xlabel('Predicted label\\naccuracy={:0.4f}; misclass={:0.4f}'.format(accuracy, misclass))\n",
        "    plt.savefig('/content/drive/My Drive/data_v3/extracted_features/confusion_marix.png', bbox_inches='tight', dpi = 100) \n",
        "\n",
        "\n",
        "plt.figure(figsize=(10,10))\n",
        "plot_confusion_matrix(cm, classes=labels, title=' ')"
      ],
      "execution_count": null,
      "outputs": [
        {
          "output_type": "stream",
          "text": [
            "Confusion Matrix\n",
            "[[512   5  87]\n",
            " [ 25  85  26]\n",
            " [ 37   0 848]]\n"
          ],
          "name": "stdout"
        },
        {
          "output_type": "display_data",
          "data": {
            "image/png": "[encoded data removed]",
            "text/plain": [
              "<Figure size 720x720 with 1 Axes>"
            ]
          },
          "metadata": {
            "tags": []
          }
        }
      ]
    },
    {
      "cell_type": "code",
      "metadata": {
        "id": "-bdqOt-S7sYm",
        "colab_type": "code",
        "colab": {
          "base_uri": "https://localhost:8080/",
          "height": 247
        },
        "outputId": "d8a4ec6d-16c5-4f81-ea31-fd5d1ebff1ff"
      },
      "source": [
        "\n",
        "from sklearn.preprocessing import LabelEncoder\n",
        "from sklearn.metrics import confusion_matrix, classification_report\n",
        "y_pred=predictions\n",
        "y_pred_probabilities=y_pred\n",
        "\n",
        "# y_pred = np.argmax(y_pred,axis = 1) \n",
        "y_actual = y_true\n",
        "\n",
        "classnames=[]\n",
        "for classname in test_generator.class_indices:\n",
        "    classnames.append(classname)\n",
        "\n",
        "confusion_mtx = confusion_matrix(y_actual, y_pred) \n",
        "print(confusion_mtx)\n",
        "target_names = classnames\n",
        "print(classification_report(y_actual, y_pred, target_names=target_names))"
      ],
      "execution_count": null,
      "outputs": [
        {
          "output_type": "stream",
          "text": [
            "[[512   5  87]\n",
            " [ 25  85  26]\n",
            " [ 37   0 848]]\n",
            "              precision    recall  f1-score   support\n",
            "\n",
            "         CAP       0.89      0.85      0.87       604\n",
            "    COVID-19       0.94      0.62      0.75       136\n",
            "      normal       0.88      0.96      0.92       885\n",
            "\n",
            "    accuracy                           0.89      1625\n",
            "   macro avg       0.91      0.81      0.85      1625\n",
            "weighted avg       0.89      0.89      0.89      1625\n",
            "\n"
          ],
          "name": "stdout"
        }
      ]
    },
    {
      "cell_type": "code",
      "metadata": {
        "id": "TwSnvI-c703T",
        "colab_type": "code",
        "colab": {
          "base_uri": "https://localhost:8080/",
          "height": 52
        },
        "outputId": "b45b0701-a8b6-47e6-aacc-6751d5f1a284"
      },
      "source": [
        "total=sum(sum(cm))\n",
        "\n",
        "sensitivity = cm[0,0]/(cm[0,0]+cm[1,0])\n",
        "print('Sensitivity : ', sensitivity*100 )\n",
        "\n",
        "Specificity = cm[1,1]/(cm[1,1]+cm[0,1])\n",
        "print('Specificity : ', Specificity*100 )"
      ],
      "execution_count": null,
      "outputs": [
        {
          "output_type": "stream",
          "text": [
            "Sensitivity :  95.34450651769087\n",
            "Specificity :  94.44444444444444\n"
          ],
          "name": "stdout"
        }
      ]
    },
    {
      "cell_type": "code",
      "metadata": {
        "id": "slHg66I671tG",
        "colab_type": "code",
        "colab": {
          "base_uri": "https://localhost:8080/",
          "height": 952
        },
        "outputId": "e57fda08-d7c0-4fca-c045-e615d458386b"
      },
      "source": [
        "plt.style.use(\"seaborn-ticks\")\n",
        "\n",
        "plt.plot(history.history['accuracy'])\n",
        "plt.plot(history.history['val_accuracy'])\n",
        "plt.title('model accuracy')\n",
        "plt.ylabel('Accuracy')\n",
        "plt.xlabel('Epoch')\n",
        "plt.legend(['Training Acc', 'Test Acc'], loc='upper left')\n",
        "plt.show()\n",
        "\n",
        "\n",
        "# summarize history for loss\n",
        "plt.plot(history.history['loss'])\n",
        "plt.plot(history.history['val_loss'])\n",
        "plt.title('model loss')\n",
        "plt.ylabel('Loss')\n",
        "plt.xlabel('Epoch')\n",
        "plt.legend(['Training Loss', 'Test Loss'], loc='upper left')\n",
        "plt.show()\n",
        "plt.savefig('/content/drive/My Drive/data_v3/extracted_features/model_pogress.png', bbox_inches='tight', dpi = 100) \n",
        "\n",
        "plt.figure()\n",
        "N = len(history.history['accuracy'])\n",
        "plt.plot(np.arange(0, N), history.history[\"loss\"], label=\"train_loss\")\n",
        "plt.plot(np.arange(0, N), history.history[\"val_loss\"], label=\"val_loss\")\n",
        "plt.plot(np.arange(0, N), history.history[\"accuracy\"], label=\"train_acc\")\n",
        "plt.plot(np.arange(0, N), history.history[\"val_accuracy\"], label=\"val_accuracy\")\n",
        "plt.title(\"Training Loss and Accuracy\")\n",
        "plt.xlabel(\"Epoch #\")\n",
        "plt.ylabel(\"Loss/Accuracy\")\n",
        "plt.legend(loc=\"upper left\")\n",
        "plt.savefig('/content/drive/My Drive/data_v3/extracted_features/loss.png', bbox_inches='tight', dpi = 100) "
      ],
      "execution_count": null,
      "outputs": [
        {
          "output_type": "display_data",
          "data": {
            "image/png": "[encoded data removed]",
            "text/plain": [
              "<Figure size 432x288 with 1 Axes>"
            ]
          },
          "metadata": {
            "tags": []
          }
        },
        {
          "output_type": "display_data",
          "data": {
            "image/png": "[encoded data removed]",
            "text/plain": [
              "<Figure size 432x288 with 1 Axes>"
            ]
          },
          "metadata": {
            "tags": []
          }
        },
        {
          "output_type": "display_data",
          "data": {
            "text/plain": [
              "<Figure size 432x288 with 0 Axes>"
            ]
          },
          "metadata": {
            "tags": []
          }
        },
        {
          "output_type": "display_data",
          "data": {
            "image/png": "[encoded data removed]",
            "text/plain": [
              "<Figure size 432x288 with 1 Axes>"
            ]
          },
          "metadata": {
            "tags": []
          }
        }
      ]
    },
    {
      "cell_type": "code",
      "metadata": {
        "id": "_OWUDcDxnXje",
        "colab_type": "code",
        "colab": {}
      },
      "source": [
        ""
      ],
      "execution_count": null,
      "outputs": []
    }
  ]
}