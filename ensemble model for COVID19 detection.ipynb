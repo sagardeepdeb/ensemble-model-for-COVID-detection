{
  "nbformat": 4,
  "nbformat_minor": 0,
  "metadata": {
    "colab": {
      "name": "corona mix.ipynb",
      "provenance": []
    },
    "kernelspec": {
      "name": "python3",
      "display_name": "Python 3"
    },
    "accelerator": "GPU"
  },
  "cells": [
    {
      "cell_type": "code",
      "metadata": {
        "id": "AKMrvieU568D",
        "colab_type": "code",
        "colab": {
          "base_uri": "https://localhost:8080/",
          "height": 107
        },
        "outputId": "c0e0e7c6-d63c-4f91-e2d6-2f770b92ff6f"
      },
      "source": [
        "# to access the google drive\n",
        "from google.colab import drive\n",
        "drive.mount('/content/drive')"
      ],
      "execution_count": null,
      "outputs": [
        {
          "output_type": "stream",
          "text": [
            "Go to this URL in a browser: https://accounts.google.com/o/oauth2/auth?client_id=947318989803-6bn6qk8qdgf4n4g3pfee6491hc0brc4i.apps.googleusercontent.com&redirect_uri=urn%3aietf%3awg%3aoauth%3a2.0%3aoob&scope=email%20https%3a%2f%2fwww.googleapis.com%2fauth%2fdocs.test%20https%3a%2f%2fwww.googleapis.com%2fauth%2fdrive%20https%3a%2f%2fwww.googleapis.com%2fauth%2fdrive.photos.readonly%20https%3a%2f%2fwww.googleapis.com%2fauth%2fpeopleapi.readonly&response_type=code\n",
            "\n",
            "Enter your authorization code:\n",
            "··········\n"
          ],
          "name": "stdout"
        }
      ]
    },
    {
      "cell_type": "code",
      "metadata": {
        "id": "iU-vEztM6RMy",
        "colab_type": "code",
        "colab": {}
      },
      "source": [
        "import os\n",
        "import numpy as np\n",
        "np.random.seed(777)\n",
        "import math\n",
        "import keras\n",
        "import keras.backend as K\n",
        "import h5py\n",
        "from keras.preprocessing.image import ImageDataGenerator\n",
        "from keras.optimizers import Adam, SGD, RMSprop\n",
        "from keras.models import Sequential\n",
        "from keras.models import Model\n",
        "from keras.layers import Input, Activation, merge, Dense, Flatten, Dropout, concatenate\n",
        "from keras.layers.convolutional import Conv2D, MaxPooling2D\n",
        "from keras.layers import BatchNormalization, add, GlobalAveragePooling2D\n",
        "from keras.utils.np_utils import to_categorical\n",
        "from keras.optimizers import Adam\n",
        "from sklearn.metrics import accuracy_score,roc_curve, confusion_matrix, roc_auc_score, auc, f1_score\n",
        "from keras.regularizers import l2\n",
        "from keras.applications.xception import Xception, preprocess_input\n",
        "from keras.applications.mobilenet import MobileNet\n",
        "from keras.applications.vgg16 import VGG16\n",
        "from keras.applications.vgg19 import VGG19\n",
        "from keras.applications import DenseNet201\n",
        "from keras.applications import DenseNet121\n",
        "\n",
        "from keras.layers import Input, Dense, Activation, ZeroPadding2D, BatchNormalization, Flatten, Conv2D, Lambda,Concatenate\n",
        "from keras.layers import SeparableConv2D, AveragePooling2D, MaxPooling2D, Dropout, GlobalMaxPooling2D, GlobalAveragePooling2D, Add\n",
        "\n",
        "import matplotlib.pyplot as plt\n",
        "%matplotlib inline\n",
        "\n",
        "plt.rcParams[\"axes.grid\"] = False\n",
        "plt.rcParams.update({'font.size': 20})"
      ],
      "execution_count": null,
      "outputs": []
    },
    {
      "cell_type": "code",
      "metadata": {
        "id": "1WMMCuzd6ee-",
        "colab_type": "code",
        "colab": {}
      },
      "source": [
        "# directories of train, test and validation\n",
        "train_dir = '/content/drive/My Drive/data_v3/train/'\n",
        "test_dir = '/content/drive/My Drive/data_v3/test/'\n",
        "valid_dir = '/content/drive/My Drive/data_v3/test/'\n",
        "\n",
        "extracted_features_dir = '/content/drive/My Drive/data_v3/extracted_features/'\n"
      ],
      "execution_count": null,
      "outputs": []
    },
    {
      "cell_type": "code",
      "metadata": {
        "id": "1_xeR1R36heA",
        "colab_type": "code",
        "colab": {}
      },
      "source": [
        "import keras\n",
        "import tensorflow as tf\n",
        "import keras.backend as K\n",
        "\n",
        "print(\"Keras Version\", keras.__version__)\n",
        "print(\"tensorflow Version\", tf.__version__)\n"
      ],
      "execution_count": null,
      "outputs": []
    },
    {
      "cell_type": "code",
      "metadata": {
        "id": "o0md5vIr6kfD",
        "colab_type": "code",
        "colab": {
          "base_uri": "https://localhost:8080/",
          "height": 265
        },
        "outputId": "81a3d158-04ed-4c58-8c4e-3b925e5073eb"
      },
      "source": [
        "# train , test and valid size\n",
        "\n",
        "batch_size = 32\n",
        "img_height, img_width = 224, 224\n",
        "input_shape = (img_height, img_width, 3)\n",
        "epochs = 1000\n",
        "\n",
        "\n",
        "for root,dirs,files in os.walk(train_dir):\n",
        "    print (root, len(files))\n",
        "\n",
        "print(\"*\"*30)\n",
        "for root,dirs,files in os.walk(test_dir):\n",
        "    print (root, len(files))\n",
        "\n",
        "print(\"*\"*30)\n",
        "for root,dirs,files in os.walk(valid_dir):\n",
        "    print (root, len(files))"
      ],
      "execution_count": 5,
      "outputs": [
        {
          "output_type": "stream",
          "text": [
            "/content/drive/My Drive/data_v3/train/ 0\n",
            "/content/drive/My Drive/data_v3/train/COVID-19 635\n",
            "/content/drive/My Drive/data_v3/train/normal 7082\n",
            "/content/drive/My Drive/data_v3/train/CAP 4836\n",
            "******************************\n",
            "/content/drive/My Drive/data_v3/test/ 0\n",
            "/content/drive/My Drive/data_v3/test/normal 885\n",
            "/content/drive/My Drive/data_v3/test/COVID-19 136\n",
            "/content/drive/My Drive/data_v3/test/CAP 604\n",
            "******************************\n",
            "/content/drive/My Drive/data_v3/test/ 0\n",
            "/content/drive/My Drive/data_v3/test/normal 885\n",
            "/content/drive/My Drive/data_v3/test/COVID-19 136\n",
            "/content/drive/My Drive/data_v3/test/CAP 604\n"
          ],
          "name": "stdout"
        }
      ]
    },
    {
      "cell_type": "code",
      "metadata": {
        "id": "2p_9wpvN6pOk",
        "colab_type": "code",
        "colab": {
          "base_uri": "https://localhost:8080/",
          "height": 70
        },
        "outputId": "aff2fd3b-5893-4971-bb5c-a2ccc128a3f2"
      },
      "source": [
        "random_seed = np.random.seed(1142)\n",
        "\n",
        "train_datagen = ImageDataGenerator(\n",
        "    rescale=1. / 255,\n",
        "    featurewise_center=True,\n",
        "    featurewise_std_normalization=True,\n",
        "    validation_split= 0.25,\n",
        "    zoom_range=0.2,\n",
        "    shear_range=0.2)\n",
        "\n",
        "train_generator = train_datagen.flow_from_directory(\n",
        "    train_dir,\n",
        "    target_size=(img_height, img_width),\n",
        "    batch_size=batch_size,\n",
        "    seed = random_seed,\n",
        "    shuffle = False,\n",
        "    subset = 'training',\n",
        "    class_mode='categorical')\n",
        "\n",
        "validation_generator = train_datagen.flow_from_directory(\n",
        "    train_dir,\n",
        "    target_size=(img_height, img_width),\n",
        "    batch_size=batch_size,\n",
        "    seed = random_seed,\n",
        "    shuffle = False,\n",
        "    subset = 'validation',\n",
        "    class_mode='categorical')\n",
        "\n",
        "test_datagen = ImageDataGenerator(rescale=1. / 255)\n",
        "test_generator = test_datagen.flow_from_directory(\n",
        "    test_dir,\n",
        "    target_size=(img_height, img_width),\n",
        "    batch_size=batch_size,\n",
        "    seed = random_seed,\n",
        "    shuffle = False,\n",
        "    class_mode='categorical')"
      ],
      "execution_count": 6,
      "outputs": [
        {
          "output_type": "stream",
          "text": [
            "Found 9416 images belonging to 3 classes.\n",
            "Found 3137 images belonging to 3 classes.\n",
            "Found 1625 images belonging to 3 classes.\n"
          ],
          "name": "stdout"
        }
      ]
    },
    {
      "cell_type": "code",
      "metadata": {
        "id": "6On8RNqT6vrl",
        "colab_type": "code",
        "colab": {
          "base_uri": "https://localhost:8080/",
          "height": 176
        },
        "outputId": "c9ef6cdb-a58d-4639-998a-804a8beb834f"
      },
      "source": [
        "nb_train_samples = len(train_generator.filenames)\n",
        "nb_validation_samples = len(validation_generator.filenames)\n",
        "predict_size_train = int(math.ceil(nb_train_samples / batch_size))\n",
        "predict_size_validation = int(math.ceil(nb_validation_samples / batch_size))\n",
        "\n",
        "nb_test_samples = len(test_generator.filenames)\n",
        "predict_size_test = int(math.ceil(nb_test_samples / batch_size))\n",
        "\n",
        "# nb_test_without_aug_samples = len(test_generator_without_aug.filenames)\n",
        "# predict_size_test_without_aug = int(math.ceil(nb_test_without_aug_samples / batch_size))\n",
        "\n",
        "num_classes = len(train_generator.class_indices)\n",
        "\n",
        "print(\"nb_train_samples:\", nb_train_samples)\n",
        "print(\"nb_validation_samples:\", nb_validation_samples)\n",
        "print(\"\\npredict_size_train:\", predict_size_train)\n",
        "print(\"predict_size_validation:\", predict_size_validation)\n",
        "# print(\"nb_test_without_aug_samples:\", nb_test_without_aug_samples)\n",
        "# print(\"predict_size_test_without_aug_samples:\", predict_size_test_without_aug)\n",
        "print(\"nb_test_samples:\", nb_test_samples)\n",
        "print(\"predict_size_test:\", predict_size_test)\n",
        "\n",
        "print(\"\\n num_classes:\", num_classes)"
      ],
      "execution_count": 7,
      "outputs": [
        {
          "output_type": "stream",
          "text": [
            "nb_train_samples: 9416\n",
            "nb_validation_samples: 3137\n",
            "\n",
            "predict_size_train: 295\n",
            "predict_size_validation: 99\n",
            "nb_test_samples: 1625\n",
            "predict_size_test: 51\n",
            "\n",
            " num_classes: 3\n"
          ],
          "name": "stdout"
        }
      ]
    },
    {
      "cell_type": "code",
      "metadata": {
        "id": "LL6kSEEwXdNo",
        "colab_type": "code",
        "colab": {
          "base_uri": "https://localhost:8080/",
          "height": 52
        },
        "outputId": "d2d94b42-7e33-4aeb-eed7-3c76f9f54c4a"
      },
      "source": [
        "from keras.applications import VGG19\n",
        "\n",
        "input_tensor = Input(shape = input_shape)  \n",
        "\n",
        "base_model =VGG19(input_shape= input_shape,weights='imagenet', include_top=False, input_tensor=input_tensor)\n",
        "\n",
        "x = base_model.output\n",
        "x = GlobalAveragePooling2D()(x)\n",
        "\n",
        "predictions = Dense(num_classes, activation='softmax')(x)\n",
        "\n",
        "model = Model(inputs=input_tensor,outputs=predictions)"
      ],
      "execution_count": 8,
      "outputs": [
        {
          "output_type": "stream",
          "text": [
            "Downloading data from https://storage.googleapis.com/tensorflow/keras-applications/vgg19/vgg19_weights_tf_dim_ordering_tf_kernels_notop.h5\n",
            "80142336/80134624 [==============================] - 1s 0us/step\n"
          ],
          "name": "stdout"
        }
      ]
    },
    {
      "cell_type": "code",
      "metadata": {
        "id": "MlQjfKVw64tM",
        "colab_type": "code",
        "colab": {
          "base_uri": "https://localhost:8080/",
          "height": 123
        },
        "outputId": "cf28327f-1194-4ba9-e55d-1077b1d9eb53"
      },
      "source": [
        "from keras.applications.densenet import DenseNet169\n",
        "from keras.applications.inception_v3 import InceptionV3\n",
        "from keras.applications.nasnet import NASNetMobile\n",
        "from keras.applications import VGG19\n",
        "\n",
        "input_tensor = Input(shape = input_shape)  \n",
        "\n",
        "base_model1=NASNetMobile(input_shape= input_shape,weights='imagenet', include_top=False, input_tensor=input_tensor)\n",
        "base_model2=InceptionV3(input_shape= input_shape,weights='imagenet', include_top=False, input_tensor=input_tensor)\n",
        "base_model3=DenseNet201(input_shape= input_shape,weights='imagenet', include_top=False, input_tensor=input_tensor)\n",
        "base_model4=VGG19(input_shape= input_shape,weights='imagenet', include_top=False, input_tensor=input_tensor)\n",
        "\n",
        "x1 = base_model1.output\n",
        "x1 = GlobalAveragePooling2D()(x1)\n",
        "\n",
        "x2 = base_model2.output\n",
        "x2 = GlobalAveragePooling2D()(x2)\n",
        "\n",
        "x3 = base_model3.output\n",
        "x3 = GlobalAveragePooling2D()(x3)\n",
        "\n",
        "x4 = base_model4.output\n",
        "x4 = GlobalAveragePooling2D()(x4)\n",
        "\n",
        "merge = concatenate([x1, x2, x3 , x4])\n",
        "predictions = Dense(num_classes, activation='softmax')(merge)\n",
        "\n",
        "model = Model(inputs=input_tensor,outputs=predictions)"
      ],
      "execution_count": 9,
      "outputs": [
        {
          "output_type": "stream",
          "text": [
            "Downloading data from https://storage.googleapis.com/tensorflow/keras-applications/nasnet/NASNet-mobile-no-top.h5\n",
            "19996672/19993432 [==============================] - 1s 0us/step\n",
            "Downloading data from https://storage.googleapis.com/tensorflow/keras-applications/inception_v3/inception_v3_weights_tf_dim_ordering_tf_kernels_notop.h5\n",
            "87916544/87910968 [==============================] - 0s 0us/step\n",
            "Downloading data from https://storage.googleapis.com/tensorflow/keras-applications/densenet/densenet201_weights_tf_dim_ordering_tf_kernels_notop.h5\n",
            "74842112/74836368 [==============================] - 0s 0us/step\n"
          ],
          "name": "stdout"
        }
      ]
    },
    {
      "cell_type": "code",
      "metadata": {
        "id": "aOD7g5Tm7ATh",
        "colab_type": "code",
        "colab": {}
      },
      "source": [
        "bottleneck_final_model = Model(inputs=model.input, outputs=merge)"
      ],
      "execution_count": 12,
      "outputs": []
    },
    {
      "cell_type": "code",
      "metadata": {
        "id": "XVu7qxnKUN0v",
        "colab_type": "code",
        "colab": {}
      },
      "source": [
        "#for i, layer in enumerate(bottleneck_final_model.layers):\n",
        "#    print(i, layer.name)"
      ],
      "execution_count": null,
      "outputs": []
    },
    {
      "cell_type": "code",
      "metadata": {
        "id": "JtnfhufD7C9e",
        "colab_type": "code",
        "colab": {}
      },
      "source": [
        "#bottleneck_final_model.summary()"
      ],
      "execution_count": null,
      "outputs": []
    },
    {
      "cell_type": "code",
      "metadata": {
        "id": "lNGc_GXB7OSN",
        "colab_type": "code",
        "colab": {
          "base_uri": "https://localhost:8080/",
          "height": 107
        },
        "outputId": "707f9311-e59c-4bdc-e245-16f9000c0981"
      },
      "source": [
        "bottleneck_features_train = bottleneck_final_model.predict_generator(train_generator, predict_size_train)\n",
        "np.save(extracted_features_dir+'bottleneck_features_train_'+model_name+'.npy', bottleneck_features_train)"
      ],
      "execution_count": 15,
      "outputs": [
        {
          "output_type": "stream",
          "text": [
            "/usr/local/lib/python3.6/dist-packages/keras_preprocessing/image/image_data_generator.py:720: UserWarning: This ImageDataGenerator specifies `featurewise_center`, but it hasn't been fit on any training data. Fit it first by calling `.fit(numpy_data)`.\n",
            "  warnings.warn('This ImageDataGenerator specifies '\n",
            "/usr/local/lib/python3.6/dist-packages/keras_preprocessing/image/image_data_generator.py:728: UserWarning: This ImageDataGenerator specifies `featurewise_std_normalization`, but it hasn't been fit on any training data. Fit it first by calling `.fit(numpy_data)`.\n",
            "  warnings.warn('This ImageDataGenerator specifies '\n"
          ],
          "name": "stderr"
        }
      ]
    },
    {
      "cell_type": "code",
      "metadata": {
        "id": "fpxUGUyYrHL0",
        "colab_type": "code",
        "colab": {
          "base_uri": "https://localhost:8080/",
          "height": 107
        },
        "outputId": "39bd66dc-2dc3-4e2b-ba01-563231b27fe4"
      },
      "source": [
        "bottleneck_features_validation = bottleneck_final_model.predict_generator(validation_generator, predict_size_validation)\n",
        "np.save(extracted_features_dir+'bottleneck_features_validation_'+model_name+'.npy', bottleneck_features_validation)"
      ],
      "execution_count": 16,
      "outputs": [
        {
          "output_type": "stream",
          "text": [
            "/usr/local/lib/python3.6/dist-packages/keras_preprocessing/image/image_data_generator.py:720: UserWarning: This ImageDataGenerator specifies `featurewise_center`, but it hasn't been fit on any training data. Fit it first by calling `.fit(numpy_data)`.\n",
            "  warnings.warn('This ImageDataGenerator specifies '\n",
            "/usr/local/lib/python3.6/dist-packages/keras_preprocessing/image/image_data_generator.py:728: UserWarning: This ImageDataGenerator specifies `featurewise_std_normalization`, but it hasn't been fit on any training data. Fit it first by calling `.fit(numpy_data)`.\n",
            "  warnings.warn('This ImageDataGenerator specifies '\n"
          ],
          "name": "stderr"
        }
      ]
    },
    {
      "cell_type": "code",
      "metadata": {
        "id": "A-7ey_CRrJ3x",
        "colab_type": "code",
        "colab": {}
      },
      "source": [
        "bottleneck_features_test = bottleneck_final_model.predict_generator(test_generator, predict_size_test)\n",
        "np.save(extracted_features_dir+'bottleneck_features_test_'+model_name+'.npy', bottleneck_features_test)"
      ],
      "execution_count": 17,
      "outputs": []
    },
    {
      "cell_type": "code",
      "metadata": {
        "id": "UodpRmlwg9p7",
        "colab_type": "code",
        "colab": {
          "base_uri": "https://localhost:8080/",
          "height": 34
        },
        "outputId": "1cc1c276-ec35-42ce-a537-bd032b6249ba"
      },
      "source": [
        "# training call backs \n",
        "lr_reduce = tf.keras.callbacks.ReduceLROnPlateau(monitor='val_loss', factor=0.5, epsilon=0.0001, patience=3, verbose=1)\n",
        "es_callback = tf.keras.callbacks.EarlyStopping(monitor='val_loss', patience=5, verbose=1)"
      ],
      "execution_count": 18,
      "outputs": [
        {
          "output_type": "stream",
          "text": [
            "WARNING:tensorflow:`epsilon` argument is deprecated and will be removed, use `min_delta` instead.\n"
          ],
          "name": "stdout"
        }
      ]
    },
    {
      "cell_type": "code",
      "metadata": {
        "id": "72CrWuv_hxzG",
        "colab_type": "code",
        "colab": {}
      },
      "source": [
        "# label smoothing https://www.linkedin.com/pulse/label-smoothing-solving-overfitting-overconfidence-code-sobh-phd/\n",
        "def categorical_smooth_loss(y_true, y_pred, label_smoothing=0.1):\n",
        "    loss = tf.keras.losses.categorical_crossentropy(y_true, y_pred, label_smoothing=label_smoothing)\n",
        "    return loss\n"
      ],
      "execution_count": 19,
      "outputs": []
    },
    {
      "cell_type": "code",
      "metadata": {
        "id": "38-2YF8r7bCc",
        "colab_type": "code",
        "colab": {
          "base_uri": "https://localhost:8080/",
          "height": 1000
        },
        "outputId": "5318cc32-c18e-49e3-d342-d65ca46f5b04"
      },
      "source": [
        "epochs = 1000\n",
        "train_data = np.load(extracted_features_dir+'bottleneck_features_train_'+model_name+'.npy')\n",
        "validation_data = np.load(extracted_features_dir+'bottleneck_features_validation_'+model_name+'.npy')\n",
        "test_data = np.load(extracted_features_dir+'bottleneck_features_test_'+model_name+'.npy')\n",
        "\n",
        "train_labels = train_generator.classes\n",
        "train_labels = to_categorical(train_labels, num_classes=num_classes)\n",
        "\n",
        "validation_labels = validation_generator.classes\n",
        "validation_labels = to_categorical(validation_labels, num_classes=num_classes)\n",
        "\n",
        "test_labels = test_generator.classes\n",
        "test_labels = to_categorical(test_labels, num_classes=num_classes)\n",
        "\n",
        "dropout_rate = 0.5\n",
        "\n",
        "model = Sequential()\n",
        "# model.add(Flatten(input_shape=train_data.shape[1:]))\n",
        "model.add(Dense(256, activation='relu'))\n",
        "model.add(Dropout(dropout_rate))\n",
        "model.add(Dense(num_classes, activation=tf.nn.softmax))\n",
        "\n",
        "adam_opt2=Adam(lr = 0.0001, beta_1=0.7, beta_2=0.995, amsgrad=True)\n",
        "\n",
        "model.compile(optimizer=tf.keras.optimizers.Adam(learning_rate=0.0001),loss=categorical_smooth_loss,metrics=['accuracy'])\n",
        "\n",
        "history = model.fit(train_data, train_labels,\n",
        "                    epochs=epochs,\n",
        "                    batch_size=batch_size,\n",
        "                    callbacks=[lr_reduce, es_callback],\n",
        "                    validation_data=(validation_data, validation_labels),\n",
        "                    verbose= 2)\n",
        "\n",
        "with open(extracted_features_dir+'history_'+model_name+'.txt','w') as f:\n",
        "    f.write(str(history.history))\n",
        "\n",
        "# model.save_weights(top_model_weights_path)\n",
        "# model.save(top_model_path)"
      ],
      "execution_count": 20,
      "outputs": [
        {
          "output_type": "stream",
          "text": [
            "Epoch 1/1000\n",
            "295/295 - 1s - loss: 0.6519 - accuracy: 0.8121 - val_loss: 0.5484 - val_accuracy: 0.8668\n",
            "Epoch 2/1000\n",
            "295/295 - 1s - loss: 0.5615 - accuracy: 0.8605 - val_loss: 0.5284 - val_accuracy: 0.8805\n",
            "Epoch 3/1000\n",
            "295/295 - 1s - loss: 0.5383 - accuracy: 0.8767 - val_loss: 0.5160 - val_accuracy: 0.8872\n",
            "Epoch 4/1000\n",
            "295/295 - 1s - loss: 0.5249 - accuracy: 0.8798 - val_loss: 0.5383 - val_accuracy: 0.8715\n",
            "Epoch 5/1000\n",
            "295/295 - 1s - loss: 0.5115 - accuracy: 0.8899 - val_loss: 0.5115 - val_accuracy: 0.8868\n",
            "Epoch 6/1000\n",
            "295/295 - 1s - loss: 0.5060 - accuracy: 0.8909 - val_loss: 0.5044 - val_accuracy: 0.8932\n",
            "Epoch 7/1000\n",
            "295/295 - 1s - loss: 0.4961 - accuracy: 0.8963 - val_loss: 0.5004 - val_accuracy: 0.8935\n",
            "Epoch 8/1000\n",
            "295/295 - 1s - loss: 0.4862 - accuracy: 0.9038 - val_loss: 0.4997 - val_accuracy: 0.8948\n",
            "Epoch 9/1000\n",
            "295/295 - 1s - loss: 0.4827 - accuracy: 0.9056 - val_loss: 0.5035 - val_accuracy: 0.8919\n",
            "Epoch 10/1000\n",
            "295/295 - 1s - loss: 0.4746 - accuracy: 0.9089 - val_loss: 0.5040 - val_accuracy: 0.8887\n",
            "Epoch 11/1000\n",
            "295/295 - 1s - loss: 0.4710 - accuracy: 0.9124 - val_loss: 0.4942 - val_accuracy: 0.8958\n",
            "Epoch 12/1000\n",
            "295/295 - 1s - loss: 0.4663 - accuracy: 0.9140 - val_loss: 0.4977 - val_accuracy: 0.8961\n",
            "Epoch 13/1000\n",
            "295/295 - 1s - loss: 0.4573 - accuracy: 0.9226 - val_loss: 0.4906 - val_accuracy: 0.8999\n",
            "Epoch 14/1000\n",
            "295/295 - 1s - loss: 0.4571 - accuracy: 0.9230 - val_loss: 0.4933 - val_accuracy: 0.8983\n",
            "Epoch 15/1000\n",
            "295/295 - 1s - loss: 0.4530 - accuracy: 0.9240 - val_loss: 0.4997 - val_accuracy: 0.8938\n",
            "Epoch 16/1000\n",
            "\n",
            "Epoch 00016: ReduceLROnPlateau reducing learning rate to 4.999999873689376e-05.\n",
            "295/295 - 1s - loss: 0.4447 - accuracy: 0.9281 - val_loss: 0.5007 - val_accuracy: 0.8926\n",
            "Epoch 17/1000\n",
            "295/295 - 1s - loss: 0.4299 - accuracy: 0.9380 - val_loss: 0.4925 - val_accuracy: 0.8993\n",
            "Epoch 18/1000\n",
            "295/295 - 1s - loss: 0.4251 - accuracy: 0.9396 - val_loss: 0.4861 - val_accuracy: 0.9040\n",
            "Epoch 19/1000\n",
            "295/295 - 1s - loss: 0.4218 - accuracy: 0.9436 - val_loss: 0.4924 - val_accuracy: 0.9025\n",
            "Epoch 20/1000\n",
            "295/295 - 1s - loss: 0.4212 - accuracy: 0.9451 - val_loss: 0.5071 - val_accuracy: 0.8967\n",
            "Epoch 21/1000\n",
            "\n",
            "Epoch 00021: ReduceLROnPlateau reducing learning rate to 2.499999936844688e-05.\n",
            "295/295 - 1s - loss: 0.4193 - accuracy: 0.9428 - val_loss: 0.4927 - val_accuracy: 0.9031\n",
            "Epoch 22/1000\n",
            "295/295 - 1s - loss: 0.4120 - accuracy: 0.9487 - val_loss: 0.4868 - val_accuracy: 0.8999\n",
            "Epoch 23/1000\n",
            "295/295 - 1s - loss: 0.4088 - accuracy: 0.9524 - val_loss: 0.4850 - val_accuracy: 0.9034\n",
            "Epoch 24/1000\n",
            "295/295 - 1s - loss: 0.4070 - accuracy: 0.9519 - val_loss: 0.4863 - val_accuracy: 0.9018\n",
            "Epoch 25/1000\n",
            "295/295 - 1s - loss: 0.4060 - accuracy: 0.9520 - val_loss: 0.4908 - val_accuracy: 0.9015\n",
            "Epoch 26/1000\n",
            "\n",
            "Epoch 00026: ReduceLROnPlateau reducing learning rate to 1.249999968422344e-05.\n",
            "295/295 - 1s - loss: 0.4059 - accuracy: 0.9509 - val_loss: 0.4899 - val_accuracy: 0.9025\n",
            "Epoch 27/1000\n",
            "295/295 - 1s - loss: 0.4004 - accuracy: 0.9549 - val_loss: 0.4852 - val_accuracy: 0.9034\n",
            "Epoch 28/1000\n",
            "295/295 - 1s - loss: 0.3997 - accuracy: 0.9585 - val_loss: 0.4858 - val_accuracy: 0.9012\n",
            "Epoch 00028: early stopping\n"
          ],
          "name": "stdout"
        }
      ]
    },
    {
      "cell_type": "code",
      "metadata": {
        "id": "dOS1hzlJljYt",
        "colab_type": "code",
        "colab": {
          "base_uri": "https://localhost:8080/",
          "height": 265
        },
        "outputId": "bf2db9c9-353e-4f78-ce7f-333e5b681d3f"
      },
      "source": [
        "model.summary()"
      ],
      "execution_count": 21,
      "outputs": [
        {
          "output_type": "stream",
          "text": [
            "Model: \"sequential\"\n",
            "_________________________________________________________________\n",
            "Layer (type)                 Output Shape              Param #   \n",
            "=================================================================\n",
            "dense_2 (Dense)              (None, 256)               1417472   \n",
            "_________________________________________________________________\n",
            "dropout (Dropout)            (None, 256)               0         \n",
            "_________________________________________________________________\n",
            "dense_3 (Dense)              (None, 3)                 771       \n",
            "=================================================================\n",
            "Total params: 1,418,243\n",
            "Trainable params: 1,418,243\n",
            "Non-trainable params: 0\n",
            "_________________________________________________________________\n"
          ],
          "name": "stdout"
        }
      ]
    },
    {
      "cell_type": "code",
      "metadata": {
        "id": "75PJxZ_o7dHX",
        "colab_type": "code",
        "colab": {
          "base_uri": "https://localhost:8080/",
          "height": 34
        },
        "outputId": "2114aeed-b99f-4852-aedf-de0f519b647a"
      },
      "source": [
        "preds = model.predict(test_data)\n",
        "\n",
        "predictions = [i.argmax() for i in preds]\n",
        "y_true = [i.argmax() for i in test_labels]\n",
        "cm = confusion_matrix(y_pred=predictions, y_true=y_true)\n",
        "\n",
        "print('Accuracy {}'.format(accuracy_score(y_true=y_true, y_pred=predictions)))"
      ],
      "execution_count": 22,
      "outputs": [
        {
          "output_type": "stream",
          "text": [
            "Accuracy 0.8898461538461538\n"
          ],
          "name": "stdout"
        }
      ]
    },
    {
      "cell_type": "code",
      "metadata": {
        "id": "yEn0ogsA7jis",
        "colab_type": "code",
        "colab": {
          "base_uri": "https://localhost:8080/",
          "height": 815
        },
        "outputId": "1844d575-ea22-4c7f-979b-875112402376"
      },
      "source": [
        "plt.rcParams[\"axes.grid\"] = False\n",
        "plt.rcParams.update({'font.size': 20})\n",
        "\n",
        "labels = []\n",
        "\n",
        "label = test_generator.class_indices\n",
        "indexlabel = dict((value, key) for key, value in label.items())\n",
        "\n",
        "for k,v in indexlabel.items():\n",
        "    labels.append(v)\n",
        "\n",
        "from sklearn.metrics import confusion_matrix\n",
        "import itertools\n",
        "def plot_confusion_matrix(cm, classes,\n",
        "                          normalize=False,\n",
        "                          title='Confusion matrix',\n",
        "                          cmap=plt.cm.Blues):\n",
        "    accuracy = np.trace(cm) / float(np.sum(cm))\n",
        "    misclass = 1 - accuracy\n",
        "    if normalize:\n",
        "        cm = cm.astype('float') / cm.sum(axis=1)[:, np.newaxis]\n",
        "        print(\"Normalized confusion matrix\")\n",
        "    else:\n",
        "        print('Confusion Matrix')\n",
        "\n",
        "    print(cm)\n",
        "#     fig = plt.figure()\n",
        "    plt.imshow(cm, interpolation='nearest', cmap=cmap)\n",
        "#     plt.title(title)\n",
        "#     plt.colorbar()\n",
        "    tick_marks = np.arange(len(classes))\n",
        "    plt.xticks(tick_marks, classes, rotation=45)\n",
        "    plt.yticks(tick_marks, classes)\n",
        "\n",
        "    fmt = '.2f' if normalize else 'd'\n",
        "    thresh = cm.max() / 2.\n",
        "    for i, j in itertools.product(range(cm.shape[0]), range(cm.shape[1])):\n",
        "        plt.text(j, i, format(cm[i, j], fmt),\n",
        "                 horizontalalignment=\"center\",\n",
        "                 color=\"white\" if cm[i, j] > thresh else \"black\")\n",
        "\n",
        "    plt.tight_layout()\n",
        "    plt.ylabel('True label')\n",
        "    plt.xlabel('Predicted label\\naccuracy={:0.4f}; misclass={:0.4f}'.format(accuracy, misclass))\n",
        "    plt.savefig('/content/drive/My Drive/data_v3/extracted_features/confusion_marix.png', bbox_inches='tight', dpi = 100) \n",
        "\n",
        "\n",
        "plt.figure(figsize=(10,10))\n",
        "plot_confusion_matrix(cm, classes=labels, title=' ')"
      ],
      "execution_count": 23,
      "outputs": [
        {
          "output_type": "stream",
          "text": [
            "Confusion Matrix\n",
            "[[521   2  81]\n",
            " [ 30  81  25]\n",
            " [ 41   0 844]]\n"
          ],
          "name": "stdout"
        },
        {
          "output_type": "display_data",
          "data": {
            "image/png": "[encoded data removed]",
            "text/plain": [
              "<Figure size 720x720 with 1 Axes>"
            ]
          },
          "metadata": {
            "tags": [],
            "needs_background": "light"
          }
        }
      ]
    },
    {
      "cell_type": "code",
      "metadata": {
        "id": "-bdqOt-S7sYm",
        "colab_type": "code",
        "colab": {
          "base_uri": "https://localhost:8080/",
          "height": 247
        },
        "outputId": "10e225f5-f181-4ee2-8bc0-462b1e69a633"
      },
      "source": [
        "\n",
        "from sklearn.preprocessing import LabelEncoder\n",
        "from sklearn.metrics import confusion_matrix, classification_report\n",
        "y_pred=predictions\n",
        "y_pred_probabilities=y_pred\n",
        "\n",
        "# y_pred = np.argmax(y_pred,axis = 1) \n",
        "y_actual = y_true\n",
        "\n",
        "classnames=[]\n",
        "for classname in test_generator.class_indices:\n",
        "    classnames.append(classname)\n",
        "\n",
        "confusion_mtx = confusion_matrix(y_actual, y_pred) \n",
        "print(confusion_mtx)\n",
        "target_names = classnames\n",
        "print(classification_report(y_actual, y_pred, target_names=target_names))"
      ],
      "execution_count": 24,
      "outputs": [
        {
          "output_type": "stream",
          "text": [
            "[[521   2  81]\n",
            " [ 30  81  25]\n",
            " [ 41   0 844]]\n",
            "              precision    recall  f1-score   support\n",
            "\n",
            "         CAP       0.88      0.86      0.87       604\n",
            "    COVID-19       0.98      0.60      0.74       136\n",
            "      normal       0.89      0.95      0.92       885\n",
            "\n",
            "    accuracy                           0.89      1625\n",
            "   macro avg       0.91      0.80      0.84      1625\n",
            "weighted avg       0.89      0.89      0.89      1625\n",
            "\n"
          ],
          "name": "stdout"
        }
      ]
    },
    {
      "cell_type": "code",
      "metadata": {
        "id": "slHg66I671tG",
        "colab_type": "code",
        "colab": {
          "base_uri": "https://localhost:8080/",
          "height": 952
        },
        "outputId": "0b1fa1a9-f22d-4e32-a2e2-cdf44cec116f"
      },
      "source": [
        "plt.style.use(\"seaborn-ticks\")\n",
        "\n",
        "plt.plot(history.history['accuracy'])\n",
        "plt.plot(history.history['val_accuracy'])\n",
        "plt.title('model accuracy')\n",
        "plt.ylabel('Accuracy')\n",
        "plt.xlabel('Epoch')\n",
        "plt.legend(['Training Acc', 'Test Acc'], loc='upper left')\n",
        "plt.show()\n",
        "\n",
        "\n",
        "# summarize history for loss\n",
        "plt.plot(history.history['loss'])\n",
        "plt.plot(history.history['val_loss'])\n",
        "plt.title('model loss')\n",
        "plt.ylabel('Loss')\n",
        "plt.xlabel('Epoch')\n",
        "plt.legend(['Training Loss', 'Test Loss'], loc='upper left')\n",
        "plt.show()\n",
        "plt.savefig('/content/drive/My Drive/data_v3/extracted_features/model_pogress.png', bbox_inches='tight', dpi = 100) \n",
        "\n",
        "plt.figure()\n",
        "N = len(history.history['accuracy'])\n",
        "plt.plot(np.arange(0, N), history.history[\"loss\"], label=\"train_loss\")\n",
        "plt.plot(np.arange(0, N), history.history[\"val_loss\"], label=\"val_loss\")\n",
        "plt.plot(np.arange(0, N), history.history[\"accuracy\"], label=\"train_acc\")\n",
        "plt.plot(np.arange(0, N), history.history[\"val_accuracy\"], label=\"val_accuracy\")\n",
        "plt.title(\"Training Loss and Accuracy\")\n",
        "plt.xlabel(\"Epoch #\")\n",
        "plt.ylabel(\"Loss/Accuracy\")\n",
        "plt.legend(loc=\"upper left\")\n",
        "plt.savefig('/content/drive/My Drive/data_v3/extracted_features/loss.png', bbox_inches='tight', dpi = 100) "
      ],
      "execution_count": 26,
      "outputs": [
        {
          "output_type": "display_data",
          "data": {
            "image/png": "[encoded data removed]",
            "text/plain": [
              "<Figure size 432x288 with 1 Axes>"
            ]
          },
          "metadata": {
            "tags": []
          }
        },
        {
          "output_type": "display_data",
          "data": {
            "image/png": "[encoded data removed]",
            "text/plain": [
              "<Figure size 432x288 with 1 Axes>"
            ]
          },
          "metadata": {
            "tags": []
          }
        },
        {
          "output_type": "display_data",
          "data": {
            "text/plain": [
              "<Figure size 432x288 with 0 Axes>"
            ]
          },
          "metadata": {
            "tags": []
          }
        },
        {
          "output_type": "display_data",
          "data": {
            "image/png": "[encoded data removed]",
            "text/plain": [
              "<Figure size 432x288 with 1 Axes>"
            ]
          },
          "metadata": {
            "tags": []
          }
        }
      ]
    },
    {
      "cell_type": "code",
      "metadata": {
        "id": "_OWUDcDxnXje",
        "colab_type": "code",
        "colab": {}
      },
      "source": [
        ""
      ],
      "execution_count": null,
      "outputs": []
    }
  ]
}